{
 "cells": [
  {
   "cell_type": "code",
   "execution_count": 1,
   "id": "60c96c0d",
   "metadata": {},
   "outputs": [],
   "source": [
    "from kafka import KafkaConsumer\n",
    "\n",
    "# Kafka 서버와 연결\n",
    "consumer = KafkaConsumer(\n",
    "    'heat_pf',  # 가져올 Topic 이름\n",
    "    bootstrap_servers=\"spark-worker-01:9092,spark-worker-02:9092,spark-worker-03:9092\",\n",
    "    group_id='pf_group'\n",
    ")"
   ]
  },
  {
   "cell_type": "code",
   "execution_count": 2,
   "id": "a5d23009",
   "metadata": {},
   "outputs": [],
   "source": [
    "import influxdb_client, os, time\n",
    "from influxdb_client import InfluxDBClient, Point, WritePrecision\n",
    "from influxdb_client.client.write_api import SYNCHRONOUS\n",
    "\n",
    "token = os.environ.get(\"INFLUXDB_TOKEN\")\n",
    "\n",
    "org = \"pfss\"\n",
    "url = \"http://spark-master-01:8086/\"\n",
    "\n",
    "client = influxdb_client.InfluxDBClient(url=url, token=token, org=org)"
   ]
  },
  {
   "cell_type": "code",
   "execution_count": null,
   "id": "74b85ff7",
   "metadata": {},
   "outputs": [],
   "source": [
    "import json\n",
    "from datetime import datetime\n",
    "\n",
    "\n",
    "\n",
    "# Write API 생성\n",
    "write_api = client.write_api(write_options=SYNCHRONOUS)\n",
    "\n",
    "# 데이터 쓰기\n",
    "for msg in consumer:\n",
    "    # Consumer로부터 가져온 데이터 JSON 파싱\n",
    "    data= json.loads(msg.value.decode())\n",
    "    \n",
    "    # InfluxDB에 쓸 데이터 생성\n",
    "    influx_data = [\n",
    "        {\n",
    "            \"measurement\": \"sensor_measurement\",\n",
    "            \"tags\": {\n",
    "                \"sensor_id\": data['sensor_id']\n",
    "            },\n",
    "            \"time\": datetime.utcnow().strftime('%Y-%m-%dT%H:%M:%SZ'),\n",
    "            \"fields\": {\n",
    "                \"temperature\": data['온도'],\n",
    "                \"pf\": data['pf'],\n",
    "                \"R_pf\": data['R_pf'],\n",
    "                \"S_pf\": data['S_pf'],\n",
    "                \"T_pf\": data['T_pf'],\n",
    "                \"pred\": data['pred'],\n",
    "            }\n",
    "        }\n",
    "    ]\n",
    "    # InfluxDB에 데이터 쓰기\n",
    "    write_api.write(bucket=\"heat_pf\", record=influx_data)"
   ]
  },
  {
   "cell_type": "code",
   "execution_count": null,
   "id": "037039d2",
   "metadata": {},
   "outputs": [],
   "source": []
  }
 ],
 "metadata": {
  "kernelspec": {
   "display_name": "Python 3 (ipykernel)",
   "language": "python",
   "name": "python3"
  },
  "language_info": {
   "codemirror_mode": {
    "name": "ipython",
    "version": 3
   },
   "file_extension": ".py",
   "mimetype": "text/x-python",
   "name": "python",
   "nbconvert_exporter": "python",
   "pygments_lexer": "ipython3",
   "version": "3.8.10"
  }
 },
 "nbformat": 4,
 "nbformat_minor": 5
}
